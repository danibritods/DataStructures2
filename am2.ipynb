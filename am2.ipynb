{
 "cells": [
  {
   "cell_type": "markdown",
   "metadata": {},
   "source": [
    "# Hashing\n"
   ]
  },
  {
   "cell_type": "markdown",
   "metadata": {},
   "source": [
    "Considering the 9 key sequence, and a hash table of 19 elements. \n",
    "### 224562 137456 214562\n",
    "### 140145 214576 162145\n",
    "### 144467 199645 234534\n",
    "\n",
    "1. Use the division remainder, open addressing and linear treat to collisions. \n",
    "\n",
    "2. Use algarism extraction hashing (1st, 3rd, and 5th) normalazing if necessary. Using open addressing with quadradic atempt to treat collisions.\n",
    "\n",
    "3. Use the midsquare method with two central digits to initial hashing, treat collisions by rehashing with pseudo-random number generator with a=3 and e=-1. \n",
    "\n",
    "5. Answer True or False:\n",
    "\n",
    "    I) Hashing techniques garantee seach time, insertion and deletion always be O(I). [FALSE] \n",
    "        It is O(I) on average, but there are considerable exeptions such as colision handling on fuller tables, or with linked lists to be scrolled. \n",
    "\n",
    "    II) Unless the hashing is perfect regardless of the hash function used, there is always the possibility of a collision [TRUE]. \n",
    "        By definition a perfect hash would map 1 to 1 and therefore escape collision, otherwise it is impossible to completely avoid collisions precisely because of the stochastic nature of hashing methods. \n",
    "\n",
    "    III) we can use a hash function for the initial placement of the key in the table and another function for collision handling. [TRUE]\n",
    "        Definitely, it is indeed commom practice called double hashing, and a very logical aproach to efficiently adress collisions and primary clustering. \n",
    "    \n",
    "    IV) Every double hash eliminates secondary clustering. [FALSE]. \n",
    "            Considering Secondary Clustering as the inevitable situation in linear and quadratic aproaches that equal base adresses follow the same colision solving path, that is, generate the same sequence, is clear that only the double hashes that thread the same base adress differently can scape this fact. \n",
    "\n"
   ]
  },
  {
   "cell_type": "code",
   "execution_count": 2,
   "metadata": {},
   "outputs": [],
   "source": [
    "keys = [224562, 137456, 214562, \n",
    "        140145, 214576, 162145,\n",
    "        144467, 199645, 234534]\n",
    "\n",
    "m = 19 \n",
    "\n",
    "def Initial_Hashing(keys,Hashing):\n",
    "    return(list(map(Hashing,keys)))\n",
    "    #return [Hashing(key)-1 for key in keys\n",
    "    \n",
    "def Filling_Hash_Table(keys,Hashing,ReHashing):\n",
    "    hash_table = [None] * m \n",
    "    print()\n",
    "    for i in range(len(keys)):\n",
    "        key = keys[i]\n",
    "        hashed_key = Hashing(key) \n",
    "        if hash_table[hashed_key-1] == None:\n",
    "            hash_table[hashed_key-1] = key\n",
    "        else:\n",
    "            print(\"collision! between keys: \",key,hash_table[hashed_key-1]) \n",
    "            while hash_table[hashed_key-1] != None:\n",
    "                hashed_key = ReHashing(hashed_key,i)\n",
    "            print(\"found empty index: \",hashed_key-1)\n",
    "            hash_table[hashed_key-1] = key\n",
    "    return(hash_table)"
   ]
  },
  {
   "cell_type": "code",
   "execution_count": 3,
   "metadata": {},
   "outputs": [
    {
     "name": "stdout",
     "output_type": "stream",
     "text": [
      "Initial Hashing of each key: [1, 10, 14, 1, 9, 18, 10, 12, 17]\n",
      "\n",
      "collision! between keys:  140145 224562\n",
      "found empty index:  1\n",
      "collision! between keys:  144467 137456\n",
      "found empty index:  10\n",
      "\n",
      "HashTable:\n",
      " [224562, 140145, None, None, None, None, None, None, 214576, 137456, 144467, 199645, None, 214562, None, None, 234534, 162145, None]\n"
     ]
    }
   ],
   "source": [
    "\"\"\"1.\"\"\"\n",
    "def Hashing_01(key):\n",
    "    return key % m\n",
    "def ReHashing_01(hashed_key,i):\n",
    "    return (hashed_key + 1) % m\n",
    "\n",
    "print(\"Initial Hashing of each key:\",\n",
    "    Initial_Hashing(keys,Hashing_01))\n",
    "print(\"\\nHashTable:\\n\",\n",
    "    Filling_Hash_Table(keys,Hashing_01,ReHashing_01))"
   ]
  },
  {
   "cell_type": "code",
   "execution_count": 4,
   "metadata": {},
   "outputs": [
    {
     "name": "stdout",
     "output_type": "stream",
     "text": [
      "Initial Hashing of each key: [18, 4, 18, 9, 0, 10, 13, 4, 15]\n",
      "\n",
      "collision! between keys:  214562 224562\n",
      "found empty index:  2\n",
      "collision! between keys:  199645 137456\n",
      "found empty index:  11\n",
      "\n",
      "HashTable:\n",
      " [None, None, 214562, 137456, None, None, None, None, 140145, 162145, None, 199645, 144467, None, 234534, None, None, 224562, 214576]\n"
     ]
    }
   ],
   "source": [
    "\n",
    "def Hashing_02(key):\n",
    "    key = str(key)\n",
    "    return int(key[0]+key[2]+key[4]) % m \n",
    "    \n",
    "def ReHashing_02(hashed_key,i):\n",
    "    even = (i%2 * -1 + (1-i%2))\n",
    "    #Implemented this conception to alternate negative and positive sum.\n",
    "    return (hashed_key + ((i**2) * even)) % m\n",
    "\n",
    "print(\"Initial Hashing of each key:\",\n",
    "    Initial_Hashing(keys,Hashing_02))\n",
    "print(\"\\nHashTable:\\n\",\n",
    "    Filling_Hash_Table(keys,Hashing_02,ReHashing_02))"
   ]
  },
  {
   "cell_type": "code",
   "execution_count": 11,
   "metadata": {},
   "outputs": [
    {
     "name": "stdout",
     "output_type": "stream",
     "text": [
      "Initial Hashing of each key: [9, 15, 9, 5, 9, 0, 14, 12, 0]\n",
      "\n",
      "collision! between keys:  214562 224562\n",
      "found empty index:  6\n",
      "collision! between keys:  214576 224562\n",
      "found empty index:  0\n",
      "collision! between keys:  234534 162145\n",
      "found empty index:  17\n",
      "\n",
      "HashTable:\n",
      " [214576, None, None, None, 140145, None, 214562, None, 224562, None, None, 199645, None, 144467, 137456, None, None, 234534, 162145]\n"
     ]
    }
   ],
   "source": [
    "\"\"\"3. \"\"\"\n",
    "def Hashing_Midsquare(key):\n",
    "    key = str(key**2)\n",
    "    middle = len(key) // 2\n",
    "    return int(key[middle:middle+2]) % m\n",
    "\n",
    "def Hashing_PseudoRandom(key,i):\n",
    "    a = 3\n",
    "    c = -1\n",
    "    return (a*key+c) % m\n",
    "\n",
    "print(\"Initial Hashing of each key:\",\n",
    "    Initial_Hashing(keys,Hashing_Midsquare))\n",
    "print(\"\\nHashTable:\\n\",\n",
    "    Filling_Hash_Table(keys,Hashing_Midsquare,Hashing_PseudoRandom))"
   ]
  },
  {
   "cell_type": "code",
   "execution_count": 13,
   "metadata": {},
   "outputs": [
    {
     "name": "stdout",
     "output_type": "stream",
     "text": [
      "Initial Hashing of each key: [9, 15, 9, 5, 9, 0, 14, 12, 0]\n",
      "\n",
      "collision! between keys:  214562 224562\n",
      "found empty index:  1\n",
      "collision! between keys:  214576 224562\n",
      "found empty index:  15\n",
      "collision! between keys:  234534 162145\n",
      "found empty index:  16\n",
      "\n",
      "HashTable:\n",
      " [None, 214562, None, None, 140145, None, None, None, 224562, None, None, 199645, None, 144467, 137456, 214576, 234534, None, 162145]\n"
     ]
    }
   ],
   "source": [
    "\"\"\"4. \"\"\"\n",
    "def Hashing_Key_Offset(old_address,i):\n",
    "    key = keys[i]\n",
    "    offset = key//m\n",
    "    return (offset + old_address) % m\n",
    "    \n",
    "print(\"Initial Hashing of each key:\",\n",
    "    Initial_Hashing(keys,Hashing_Midsquare))\n",
    "print(\"\\nHashTable:\\n\",\n",
    "    Filling_Hash_Table(keys,Hashing_Midsquare,Hashing_Key_Offset))"
   ]
  },
  {
   "cell_type": "code",
   "execution_count": null,
   "metadata": {},
   "outputs": [],
   "source": []
  }
 ],
 "metadata": {
  "interpreter": {
   "hash": "319c24ade14b7873a3f936c1569cf8c1853592b8350107cb8f60c9b2a2771b37"
  },
  "kernelspec": {
   "display_name": "Python 3",
   "language": "python",
   "name": "python3"
  },
  "language_info": {
   "codemirror_mode": {
    "name": "ipython",
    "version": 3
   },
   "file_extension": ".py",
   "mimetype": "text/x-python",
   "name": "python",
   "nbconvert_exporter": "python",
   "pygments_lexer": "ipython3",
   "version": "3.7.6"
  }
 },
 "nbformat": 4,
 "nbformat_minor": 2
}
